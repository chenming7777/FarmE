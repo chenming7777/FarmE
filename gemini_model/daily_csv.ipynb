{
 "cells": [
  {
   "cell_type": "code",
   "execution_count": 11,
   "metadata": {},
   "outputs": [
    {
     "name": "stdout",
     "output_type": "stream",
     "text": [
      "Date: 2020-02-14\n",
      "Total Energy Generated: 49.44 kWh\n",
      "Hourly Energy Generation:\n",
      "  00:00: 0.00 kWh\n",
      "  01:00: 0.00 kWh\n",
      "  02:00: 0.00 kWh\n",
      "  03:00: 0.00 kWh\n",
      "  04:00: 0.00 kWh\n",
      "  05:00: 0.06 kWh\n",
      "  06:00: 0.99 kWh\n",
      "  07:00: 1.89 kWh\n",
      "  08:00: 4.17 kWh\n",
      "  09:00: 5.55 kWh\n",
      "  10:00: 4.00 kWh\n",
      "  11:00: 6.73 kWh\n",
      "  12:00: 7.02 kWh\n",
      "  13:00: 5.02 kWh\n",
      "  14:00: 6.18 kWh\n",
      "  15:00: 4.10 kWh\n",
      "  16:00: 3.03 kWh\n",
      "  17:00: 0.67 kWh\n",
      "  18:00: 0.03 kWh\n",
      "  19:00: 0.00 kWh\n",
      "  20:00: 0.00 kWh\n",
      "  21:00: 0.00 kWh\n",
      "  22:00: 0.00 kWh\n",
      "  23:00: 0.00 kWh\n",
      "Average Temperature: 27.23°C\n",
      "Average Wind Speed: 7.74 m/s\n",
      "Most Frequent Wind Direction: 135°\n",
      "Total Rainfall: 0.00 mm\n",
      "Average PM1 Concentration: 2.19 µg/m³\n",
      "Average PM2.5 Concentration: 0.30 µg/m³\n"
     ]
    }
   ],
   "source": [
    "import pandas as pd\n",
    "from datetime import datetime, timedelta\n",
    "\n",
    "# Read the CSV data (assuming it's saved as 'data.csv')\n",
    "df = pd.read_csv('C://FarmE//preprocessing_data//2020-02-14_dust.csv', parse_dates=['timestamp'])\n",
    "\n",
    "# Calculate energy generated (kWh) for each hour\n",
    "df['hour'] = df['timestamp'].dt.floor('h')\n",
    "hourly_energy = df.groupby('hour')['P_AC'].sum() / 60 / 1000  # Sum of minute values, divided by 60 to get hourly kWh\n",
    "\n",
    "# Calculate total energy generated\n",
    "total_energy_generated = hourly_energy.sum()\n",
    "\n",
    "# Calculate other metrics\n",
    "avg_temp = df['temp'].mean()\n",
    "avg_wind_speed = df['vento_vel'].mean()\n",
    "total_rainfall = df['rainfall'].sum()\n",
    "avg_pm1 = df['massaPM1'].mean()\n",
    "avg_pm2_5 = df['massaPM2'].mean()\n",
    "\n",
    "# Calculate most frequent wind direction\n",
    "wind_direction_mode = df['vento_dir'].mode().iloc[0]\n",
    "\n",
    "# Print summary\n",
    "print(f\"Date: {df['timestamp'].dt.date.iloc[0]}\")\n",
    "print(f\"Total Energy Generated: {total_energy_generated:.2f} kWh\")\n",
    "print(\"Hourly Energy Generation:\")\n",
    "for hour, energy in hourly_energy.items():\n",
    "    print(f\"  {hour.strftime('%H:%M')}: {energy:.2f} kWh\")\n",
    "print(f\"Average Temperature: {avg_temp:.2f}°C\")\n",
    "print(f\"Average Wind Speed: {avg_wind_speed:.2f} m/s\")\n",
    "print(f\"Most Frequent Wind Direction: {wind_direction_mode}°\")\n",
    "print(f\"Total Rainfall: {total_rainfall:.2f} mm\")\n",
    "print(f\"Average PM1 Concentration: {avg_pm1:.2f} µg/m³\")\n",
    "print(f\"Average PM2.5 Concentration: {avg_pm2_5:.2f} µg/m³\")"
   ]
  }
 ],
 "metadata": {
  "kernelspec": {
   "display_name": "Python 3",
   "language": "python",
   "name": "python3"
  },
  "language_info": {
   "codemirror_mode": {
    "name": "ipython",
    "version": 3
   },
   "file_extension": ".py",
   "mimetype": "text/x-python",
   "name": "python",
   "nbconvert_exporter": "python",
   "pygments_lexer": "ipython3",
   "version": "3.10.6"
  }
 },
 "nbformat": 4,
 "nbformat_minor": 2
}
