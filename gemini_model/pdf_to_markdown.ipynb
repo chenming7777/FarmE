{
 "cells": [
  {
   "cell_type": "code",
   "execution_count": null,
   "metadata": {},
   "outputs": [],
   "source": [
    "# pip install -U llama-index --upgrade --no-cache-dir --force-reinstall\n",
    "# pip install llama-parse"
   ]
  },
  {
   "cell_type": "code",
   "execution_count": 76,
   "metadata": {},
   "outputs": [
    {
     "name": "stdout",
     "output_type": "stream",
     "text": [
      "Started parsing the file under job_id 1fcc26b0-9924-4871-8570-ea96ddf26fb6\n",
      "Started parsing the file under job_id 34221d11-f417-4842-a407-73bb6f4d0ec9\n",
      "Started parsing the file under job_id 73356e4d-cd6b-408a-a574-5cd14502fd97\n",
      "Loaded 3 documents.\n",
      "Document: daily_energy_generation_report_2019-11-20.pdf, Pages: 8\n",
      "Document: daily_energy_generation_report_2019-11-27.pdf, Pages: 8\n",
      "Document: daily_energy_generation_report_2020-02-14.pdf, Pages: 8\n"
     ]
    }
   ],
   "source": [
    "import nest_asyncio\n",
    "from llama_parse import LlamaParse\n",
    "from llama_index.core import SimpleDirectoryReader, Document\n",
    "import os\n",
    "\n",
    "nest_asyncio.apply()\n",
    "\n",
    "parser = LlamaParse(\n",
    "    api_key=\"llx-Fk3WEojfAxzEaG6LlQYjsII2m5ubQ2wY1lWkAZI7bzgWST41\",\n",
    "    result_type=\"markdown\",\n",
    "    verbose=True,\n",
    ")\n",
    "\n",
    "def combine_pdf_pages(file_path):\n",
    "    parsed_pages = parser.load_data(file_path)\n",
    "    combined_text = \"\\n\\n\".join([page.text for page in parsed_pages])\n",
    "    combined_metadata = {\n",
    "        \"source\": file_path,\n",
    "        \"file_name\": os.path.basename(file_path),\n",
    "        \"page_count\": len(parsed_pages)\n",
    "    }\n",
    "    return Document(text=combined_text, metadata=combined_metadata)\n",
    "\n",
    "def load_and_combine_pdfs(directory):\n",
    "    combined_documents = []\n",
    "    for filename in os.listdir(directory):\n",
    "        if filename.endswith(\".pdf\"):\n",
    "            file_path = os.path.join(directory, filename)\n",
    "            combined_documents.append(combine_pdf_pages(file_path))\n",
    "    return combined_documents\n",
    "\n",
    "# Load and combine PDFs\n",
    "documents = load_and_combine_pdfs(\"./report_database\")\n",
    "\n",
    "print(f\"Loaded {len(documents)} documents.\")\n",
    "for doc in documents:\n",
    "    print(f\"Document: {doc.metadata['file_name']}, Pages: {doc.metadata['page_count']}\")"
   ]
  },
  {
   "cell_type": "code",
   "execution_count": 77,
   "metadata": {},
   "outputs": [
    {
     "data": {
      "text/plain": [
       "[Document(id_='2654c737-dc93-4e2e-9aff-75e1eca461f4', embedding=None, metadata={'source': './report_database\\\\daily_energy_generation_report_2019-11-20.pdf', 'file_name': 'daily_energy_generation_report_2019-11-20.pdf', 'page_count': 8}, excluded_embed_metadata_keys=[], excluded_llm_metadata_keys=[], relationships={}, text=\"# Daily Energy Generation Report\\n\\n# Weather Conditions\\n\\nDate: 2019-11-20\\n\\nSunlight Hours: 24\\n\\nAverage Temperature: 29.73°C\\n\\nAverage Wind Speed: 5.75 m/s\\n\\nMost Frequent Wind Direction: 135°\\n\\nTotal Rainfall: 0.00 mm\\n\\n# Air Quality Data:\\n\\n|Average PM1:|3.49 μg/m³|\\n|---|---|\\n|Average PM2.5:|0.12 μg/m³|\\n|Average PM4:|0.00 μg/m³|\\n|Average PM10:|0.00 μg/m³|\\n|Average Particulate Concentration:|0.45 particle/m³|\\n\\n# Energy Generation Data\\n\\nTotal Energy Generated AC: 62.30 kWh\\n\\nTotal Energy Generated DC: 63.38 kWh\\n\\nConversion Efficiency Rate: 98.29%\\n\\nPeak hour: 23:00: 0.00 kWh\\n\\n# Hourly Energy Generation:\\n\\n|Hour|Energy Generated|\\n|---|---|\\n|00:00|0.00 kWh|\\n|01:00|0.00 kWh|\\n|02:00|0.00 kWh|\\n|03:00|0.00 kWh|\\n|04:00|0.01 kWh|\\n|05:00|0.41 kWh|\\n|06:00|2.13 kWh|\\n|07:00|4.42 kWh|\\n|08:00|6.12 kWh|\\n|09:00|7.31 kWh|\\n|10:00|8.08 kWh|\\n|11:00|8.28 kWh|\\n|12:00|7.84 kWh|\\n|13:00|7.40 kWh|\\n|14:00|5.80 kWh|\\n|15:00|3.43 kWh|\\n|16:00|0.91 kWh|\\n|17:00|0.17 kWh|\\n|18:00|0.00 kWh|\\n|19:00|0.00 kWh|\\n|20:00|0.00 kWh|\\n|21:00|0.00 kWh|\\n|22:00|0.00 kWh|\\n|23:00|0.00 kWh|\\n\\nEnvironmental Impact\\n\\nEnvironmental Impact: The high sunlight hours and favorable weather conditions on February 14th contributed to a significant reduction in CO2 emissions by generating a substantial amount of clean energy.\\n\\nCO2 Savings: 47.22 kg\\n\\nAlerts and NotificationsPerformance Alerts: No informationWeather Warnings: No information\\n\\n# Summary and Recommendations\\n\\nSummary: On February 14th, 2020, the energy generation system produced 49.44 kWh of AC energy and 50.15 kWh of DC energy, achieving a conversion efficiency rate of 98.58%. The system experienced peak generation at 12:00, reaching 7.02 kWh. The favorable weather conditions, including abundant sunlight hours and moderate wind speeds, likely played a significant role in the successful energy generation throughout the day. Air quality was excellent, with low levels of particulate matter.\\n\\nRecommendations: The system's high conversion efficiency rate is commendable. To further optimize performance, consider analyzing the hourly generation data to identify potential areas for improvement, such as optimizing the system's operation during peak sunlight hours. Regular maintenance and monitoring are crucial for ensuring continued efficient and reliable energy generation.\\n\\n|Hour of Day|11-20 03|11-20 06|11-20 09|11-20 12|11-20 15|11-20 18|11-20 21|11-21 00|\\n|---|---|---|---|---|---|---|---|---|\\n|Hourly Energy Generation (kWh)|69|0|0|12|1|48|21|0|\\n|Hourly Temperature (*C)|34|32|30|28|26|22| | |\\n\\n|Hourly Wind Speed (m/s)| | | | | | | | |\\n|---|---|---|---|---|---|---|---|---|\\n|2| | | | | | | | |\\n|1| | | | | | | | |\\n|11-20 = 69|11-20 03|11-20 06|11-20 = 0|11-20 12|11-20 48|11-20 21|11-21 00| |\\n|Hour of Day| | | | | | | | |\\n| |Hourly Wind Direction (%)| | | | | | | |\\n| |200| | | | | | | |\\n|180| | | | | | | | |\\n|160| | | | | | | | |\\n|140| | | | | | | | |\\n|120| | | | | | | | |\\n|100| | | | | | | | |\\n|69|2|48| | | | | | |\\n|11-20 00|11-20 03|11-20 =|11-20 09|11-20 12|11-20|11-20 -|11-20 21|11-21 00|\\n|Hour of Day| | | | | | | | |\\n\\nHourly Rainfall (mm)0.040.0200.000.020.04\\n\\nHourly Particulate Size (µm)0.46800.450.440.43\", mimetype='text/plain', start_char_idx=None, end_char_idx=None, text_template='{metadata_str}\\n\\n{content}', metadata_template='{key}: {value}', metadata_seperator='\\n'),\n",
       " Document(id_='d11782b9-893b-42c5-b126-a448297d50d3', embedding=None, metadata={'source': './report_database\\\\daily_energy_generation_report_2019-11-27.pdf', 'file_name': 'daily_energy_generation_report_2019-11-27.pdf', 'page_count': 8}, excluded_embed_metadata_keys=[], excluded_llm_metadata_keys=[], relationships={}, text=\"# Daily Energy Generation Report\\n\\n# Weather Conditions\\n\\nDate: 2019-11-27\\n\\nSunlight Hours: 21\\n\\nAverage Temperature: 23.85°C\\n\\nAverage Wind Speed: 5.27 m/s\\n\\nMost Frequent Wind Direction: 0°\\n\\nTotal Rainfall: 30239.25 mm\\n\\n# Air Quality Data:\\n\\n|Average PM1:|2.31 μg/m³|\\n|---|---|\\n|Average PM2.5:|0.08 μg/m³|\\n|Average PM4:|0.00 μg/m³|\\n|Average PM10:|0.00 μg/m³|\\n|Average Particulate Concentration:|0.45 particle/m³|\\n\\n# Energy Generation Data\\n\\nTotal Energy Generated AC: 21.60 kWh\\n\\nTotal Energy Generated DC: 22.02 kWh\\n\\nConversion Efficiency Rate: 98.10%\\n\\nPeak hour: 23:00: 0.00 kWh\\n\\n|Hour|Energy Generated|\\n|---|---|\\n|00:00|0.00 kWh|\\n|04:00|0.00 kWh|\\n|05:00|0.44 kWh|\\n|06:00|1.31 kWh|\\n|07:00|3.07 kWh|\\n|08:00|3.64 kWh|\\n|09:00|3.29 kWh|\\n|10:00|2.61 kWh|\\n|11:00|2.63 kWh|\\n|12:00|1.10 kWh|\\n|13:00|1.20 kWh|\\n|14:00|1.05 kWh|\\n|15:00|0.75 kWh|\\n|16:00|0.39 kWh|\\n|17:00|0.12 kWh|\\n|18:00|0.00 kWh|\\n|19:00|0.00 kWh|\\n|20:00|0.00 kWh|\\n|21:00|0.00 kWh|\\n|22:00|0.00 kWh|\\n|23:00|0.00 kWh|\\n\\nEnvironmental Impact\\n\\nThe system generated 49.44 kWh of energy, which resulted in a significant reduction in CO2 emissions compared to using fossil fuels. Additionally, the high conversion efficiency rate of 98.58% further minimizes environmental impact.\\n\\nCO2 Savings: 16.37 kg\\n\\nAlerts and NotificationsPerformance Alerts: No informationWeather Warnings: No information\\n\\n# Summary and Recommendations\\n\\nSummary: On February 14, 2020, the energy generation system produced 49.44 kWh of AC energy and 50.15 kWh of DC energy, with a conversion efficiency of 98.58%. The system experienced peak generation at 12:00, reaching 7.02 kWh. The day was characterized by abundant sunlight (24 hours) and favorable weather conditions, with an average temperature of 27.23°C and moderate wind speeds. Air quality was excellent, with low levels of particulate matter.\\n\\nRecommendations: The system's high conversion efficiency and overall performance are commendable. However, analyzing the hourly generation data reveals a significant drop in output after the peak hour at 12:00. Investigating potential causes for this drop and implementing measures to maintain consistent generation throughout the day could further optimize system efficiency.\\n\\n| |11-27 00|11-27 03|11-27 06|11-27 09|11-27 12|11-27 15|11-27 18|11-27 21|11-28|\\n|---|---|---|---|---|---|---|---|---|---|\\n|3.5| | | | | | | | | |\\n|3.0| | | | | | | | | |\\n|12.5| | | | | | | | | |\\n|2.0| | | | | | | | | |\\n|1.0| | | | | | | | | |\\n|0.5| | | | | | | | | |\\n|0.0| | | | | | | | | |\\n\\n</hourly_energy_generation_kwh>\\n\\n| |11-27 00|11-27 03|11-27 06|11-27 09|11-27 12|11-27 15|11-27 18|11-27 21|11-28|\\n|---|---|---|---|---|---|---|---|---|---|\\n|26| | | | | | | | | |\\n|25| | | | | | | | | |\\n|24| | | | | | | | | |\\n|23| | | | | | | | | |\\n|22| | | | | | | | | |\\n|21| | | | | | | | | |\\n\\n</hourly_temperature_c>\\n\\n|Hourly Wind Speed (m/s)| | | | | | | | | |\\n|---|---|---|---|---|---|---|---|---|---|\\n|16| | | | | | | | | |\\n|14| | | | | | | | | |\\n|12| | | | | | | | | |\\n|2| | | | | | | | | |\\n|1| | | | | | | | | |\\n|1| | | | | | | | | |\\n| |00| | |69| | | | | |\\n|11-27 00|11-27 03|11-27 06|11-27 09|Hour of Day|11-27 12|11-27 15|11-27 18|11-27 21|11-28|\\n| | | |Hourly Wind Direction (%)| | | | | | |\\n|200| | | | | | | | | |\\n|175| | | | | | | | | |\\n|150| | | | | | | | | |\\n|125| | | | | | | | | |\\n|100| | | | | | | | | |\\n|25| | | | | | | | | |\\n| | |68| |69| | | | | |\\n| |11-27 00|11-27 03|11-27 5|11-27 09|11-27 12|11-27 15|11-27 18|11-27 21|11-28|\\n\\n| | |Hourly Rainfall (mm)| | | | | | | |\\n|---|---|---|---|---|---|---|---|---|---|\\n|4000| | | | | | | | | |\\n|13000| | | | | | | | | |\\n|12000| | | | | | | | | |\\n|1000| | | | | | | | | |\\n| |68| | | | | | | | |\\n|11-27 00|11-27 03|11-27 -|11-27 09|Hour of Day|11-27 12|11-27 15|11-27 18|11-27 21|11-28 00|\\n|Hourly Particulate Size (µm)| | | | | | | | | |\\n|0.460| | | | | | | | | |\\n|0.455| | | | | | | | | |\\n|0.450| | | | | | | | | |\\n|0.445| | | | | | | | | |\\n|0.440| | | | | | | | | |\\n|0.435| | | | | | | | | |\\n|0.430| | | | | | | | | |\\n|69| | |48|69| | | | | |\\n|11-27|11-27|11-27 06|11-27 09|11-27 12|11-27 15|11-27|11-27 21|11-28|Hour of Day|\", mimetype='text/plain', start_char_idx=None, end_char_idx=None, text_template='{metadata_str}\\n\\n{content}', metadata_template='{key}: {value}', metadata_seperator='\\n'),\n",
       " Document(id_='e4222ce2-791e-4d35-8b59-3329c6ff022e', embedding=None, metadata={'source': './report_database\\\\daily_energy_generation_report_2020-02-14.pdf', 'file_name': 'daily_energy_generation_report_2020-02-14.pdf', 'page_count': 8}, excluded_embed_metadata_keys=[], excluded_llm_metadata_keys=[], relationships={}, text='# Daily Energy Generation Report\\n\\n# Weather Conditions\\n\\nDate: 2020-02-14\\n\\nSunlight Hours: 24\\n\\nAverage Temperature: 27.23°C\\n\\nAverage Wind Speed: 7.74 m/s\\n\\nMost Frequent Wind Direction: 135°\\n\\nTotal Rainfall: 0.00 mm\\n\\n# Air Quality Data:\\n\\n|Average PM1:|2.19 μg/m³|\\n|---|---|\\n|Average PM2.5:|0.30 μg/m³|\\n|Average PM4:|0.23 μg/m³|\\n|Average PM10:|0.03 μg/m³|\\n|Average Particulate Concentration:|0.47 particle/m³|\\n\\n# Energy Generation Data\\n\\nTotal Energy Generated AC: 49.44 kWh\\n\\nTotal Energy Generated DC: 50.15 kWh\\n\\nConversion Efficiency Rate: 98.58%\\n\\nPeak hour: 23:00: 0.00 kWh\\n\\n|Hour|Energy Generated|\\n|---|---|\\n|00:00|0.00 kWh|\\n|01:00|0.00 kWh|\\n|02:00|0.00 kWh|\\n|03:00|0.00 kWh|\\n|04:00|0.00 kWh|\\n|05:00|0.06 kWh|\\n|06:00|0.99 kWh|\\n|07:00|1.89 kWh|\\n|08:00|4.17 kWh|\\n|09:00|5.55 kWh|\\n|10:00|4.00 kWh|\\n|11:00|6.73 kWh|\\n|12:00|7.02 kWh|\\n|13:00|5.02 kWh|\\n|14:00|6.18 kWh|\\n|15:00|4.10 kWh|\\n|16:00|3.03 kWh|\\n|17:00|0.67 kWh|\\n|18:00|0.03 kWh|\\n|19:00|0.00 kWh|\\n|20:00|0.00 kWh|\\n|21:00|0.00 kWh|\\n|22:00|0.00 kWh|\\n|23:00|0.00 kWh|\\n\\nEnvironmental Impact\\n\\nEnvironmental Impact: The high sunlight hours and favorable weather conditions contributed to significant CO2 savings by generating clean energy.\\n\\nCO2 Savings: 37.47 kg\\n\\n# Alerts and Notifications\\n\\n|Performance Alerts:|No information|\\n|---|---|\\n|Weather Warnings:|No information|\\n\\n# Summary and Recommendations\\n\\nSummary: On February 14, 2020, the energy generation system produced a total of 49.44 kWh of AC energy and 50.15 kWh of DC energy, with a conversion efficiency of 98.58%. The peak generation hour was 12:00 with 7.02 kWh. The system operated under ideal weather conditions, with abundant sunlight and moderate wind speeds, resulting in strong energy output.\\n\\nRecommendations: Continue monitoring system performance and weather conditions to optimize energy generation efficiency. Explore opportunities to maximize energy utilization and minimize energy consumption on-site.\\n\\n| | | | |Hourly Energy Generation (kWh)| | | | | | | | | | | | | | | | | | | | |\\n|---|---|---|---|---|---|---|---|---|---|---|---|---|---|---|---|---|---|---|---|---|---|---|---|---|\\n| |02-14|€69|02-14|€0|1|02-14|=0|02-14|12|02-14|=2|02-14|-48|02-14|21|02-15|=69| | | | | | | |\\n| | | | |Hour of Day| | | | | | | | | | | | | | | | | | | | |\\n| | | | |Hourly Temperature (*C)| | | | | | | | | | | | | | | | | | | | |\\n|32| | | | | | | | | | | | | | | | | | | | | | | | |\\n|28| | | | | | | | | | | | | | | | | | | | | | | | |\\n|26| | | | | | | | | | | | | | | | | | | | | | | | |\\n|24| | | | | | | | | | | | | | | | | | | | | | | | |\\n|22| | | | | | | | | | | | | | | | | | | | | | | | |\\n|68|0| | |09|69|02-14|=|02-14|€|02-14|=|02-14|09|Hour of Day|02-14|12|02-14|15|02-14|18|02-14|21|02-15|[|\\n\\n|Hourly Wind Speed (m/s)| | | | | | | | | | |\\n|---|---|---|---|---|---|---|---|---|---|---|\\n|12| | | | | | | | | | |\\n|10| | | | | | | | | | |\\n|2| | | | | | | | | | |\\n|1| | | | | | | | | | |\\n|1| | | | | | | | | | |\\n| |68|0|09| | | |69| | | |\\n| |02-14|=|02-14|02-14 09|Hour of Day|02-14 12|02-14 15|02-14 18|02-14 21|02-15|\\n| | | | |Hourly Wind Direction (%)| | | | | | |\\n|200| | | | | | | | | | |\\n|180| | | | | | | | | | |\\n|160| | | | | | | | | | |\\n|140| | | | | | | | | | |\\n|120| | | | | | | | | | |\\n|100| | | | | | | | | | |\\n| |69|6|06| |2|48|69| | | |\\n| |02-14 5|02-14 =|02-14|02-14 09|02-14 12|02-14 =|02-14 -|02-14 21|02-15| |\\n| | | | |Hour of Day| | | | | | |\\n\\n| | | |Hourly Rainfall (mm)| | | | | | | | |\\n|---|---|---|---|---|---|---|---|---|---|---|---|\\n|0.04| | | | | | | | | | | |\\n|0.02| | | | | | | | | | | |\\n|0| | | | | | | | | | | |\\n|0.00| | | | | | | | | | | |\\n|0.02| | | | | | | | | | | |\\n|0.04| | | | | | | | | | | |\\n| |69|0|66|2|848| | | | | | |\\n| |02-14|02-14|02-14|02-14|02-14|02-14|02-14|02-14|02-14|02-15|00|\\n|Hourly Particulate Size (µm)| | | | | | | | | | | |\\n|0.65| | | | | | | | | | | |\\n|0.60| | | | | | | | | | | |\\n| |1| | | | | | | | | | |\\n|80.55| | | | | | | | | | | |\\n|0.50| | | | | | | | | | | |\\n|0.45| | | | | | | | | | | |\\n| |09|8| |2|48|69| | | | | |\\n|02-14|5|02-14|06|02-14|09|02-14|12|02-14|21|02-15| |', mimetype='text/plain', start_char_idx=None, end_char_idx=None, text_template='{metadata_str}\\n\\n{content}', metadata_template='{key}: {value}', metadata_seperator='\\n')]"
      ]
     },
     "execution_count": 77,
     "metadata": {},
     "output_type": "execute_result"
    }
   ],
   "source": [
    "documents"
   ]
  },
  {
   "cell_type": "code",
   "execution_count": 79,
   "metadata": {},
   "outputs": [
    {
     "name": "stdout",
     "output_type": "stream",
     "text": [
      "Doc ID: 2654c737-dc93-4e2e-9aff-75e1eca461f4\n",
      "Text: # Daily Energy Generation Report  # Weather Conditions  Date:\n",
      "2019-11-20  Sunlight Hours: 24  Average Temperature: 29.73°C  Average\n",
      "Wind Speed: 5.75 m/s  Most Frequent Wind Direction: 135°  Total\n",
      "Rainfall: 0.00 mm  # Air Quality Data:  |Average PM1:|3.49 μg/m³|\n",
      "|---|---| |Average PM2.5:|0.12 μg/m³| |Average PM4:|0.00 μg/m³|\n",
      "|Average PM10:|0.00 μ...\n"
     ]
    }
   ],
   "source": [
    "print(documents[0])"
   ]
  },
  {
   "cell_type": "code",
   "execution_count": 1,
   "metadata": {},
   "outputs": [
    {
     "name": "stdout",
     "output_type": "stream",
     "text": [
      "Started parsing the file under job_id 906dad81-8fca-401f-87e8-49cd2a087708\n",
      "Started parsing the file under job_id 6bfdee05-cd1e-482e-9085-c01314c63d31\n",
      "Started parsing the file under job_id 06ae5f91-c42f-4251-a794-4574d64b4b72\n",
      "Loaded 3 documents.\n",
      "Document: daily_energy_generation_report_2019-11-20.pdf, Pages: 8\n",
      "Document: daily_energy_generation_report_2019-11-27.pdf, Pages: 8\n",
      "Document: daily_energy_generation_report_2020-02-14.pdf, Pages: 8\n",
      "Saved ./output_markdown\\daily_energy_generation_report_2019-11-20.md\n",
      "Saved ./output_markdown\\daily_energy_generation_report_2019-11-27.md\n",
      "Saved ./output_markdown\\daily_energy_generation_report_2020-02-14.md\n"
     ]
    }
   ],
   "source": [
    "import nest_asyncio\n",
    "from llama_parse import LlamaParse\n",
    "from llama_index.core import SimpleDirectoryReader, Document\n",
    "import os\n",
    "\n",
    "nest_asyncio.apply()\n",
    "\n",
    "parser = LlamaParse(\n",
    "    api_key=\"llx-Fk3WEojfAxzEaG6LlQYjsII2m5ubQ2wY1lWkAZI7bzgWST41\",\n",
    "    result_type=\"markdown\",\n",
    "    verbose=True,\n",
    ")\n",
    "\n",
    "def combine_pdf_pages(file_path):\n",
    "    parsed_pages = parser.load_data(file_path)\n",
    "    combined_text = \"\\n\\n\".join([page.text for page in parsed_pages])\n",
    "    combined_metadata = {\n",
    "        \"source\": file_path,\n",
    "        \"file_name\": os.path.basename(file_path),\n",
    "        \"page_count\": len(parsed_pages)\n",
    "    }\n",
    "    return Document(text=combined_text, metadata=combined_metadata)\n",
    "\n",
    "def load_and_combine_pdfs(directory):\n",
    "    combined_documents = []\n",
    "    for filename in os.listdir(directory):\n",
    "        if filename.endswith(\".pdf\"):\n",
    "            file_path = os.path.join(directory, filename)\n",
    "            combined_documents.append(combine_pdf_pages(file_path))\n",
    "    return combined_documents\n",
    "\n",
    "def save_to_markdown(documents, output_directory):\n",
    "    if not os.path.exists(output_directory):\n",
    "        os.makedirs(output_directory)\n",
    "    for doc in documents:\n",
    "        base_file_name = os.path.splitext(doc.metadata['file_name'])[0]\n",
    "        output_file_path = os.path.join(output_directory, f\"{base_file_name}.md\")\n",
    "        with open(output_file_path, 'w', encoding='utf-8') as f:\n",
    "            f.write(doc.text)\n",
    "        print(f\"Saved {output_file_path}\")\n",
    "\n",
    "# Load and combine PDFs\n",
    "documents = load_and_combine_pdfs(\"./report_database\")\n",
    "\n",
    "print(f\"Loaded {len(documents)} documents.\")\n",
    "for doc in documents:\n",
    "    print(f\"Document: {doc.metadata['file_name']}, Pages: {doc.metadata['page_count']}\")\n",
    "\n",
    "# Save combined text to Markdown files\n",
    "save_to_markdown(documents, \"./output_markdown\")\n"
   ]
  }
 ],
 "metadata": {
  "kernelspec": {
   "display_name": "Python 3",
   "language": "python",
   "name": "python3"
  },
  "language_info": {
   "codemirror_mode": {
    "name": "ipython",
    "version": 3
   },
   "file_extension": ".py",
   "mimetype": "text/x-python",
   "name": "python",
   "nbconvert_exporter": "python",
   "pygments_lexer": "ipython3",
   "version": "3.10.6"
  }
 },
 "nbformat": 4,
 "nbformat_minor": 2
}
