{
 "cells": [
  {
   "cell_type": "code",
   "execution_count": null,
   "metadata": {},
   "outputs": [],
   "source": [
    "# pip install -U llama-index --upgrade --no-cache-dir --force-reinstall\n",
    "# pip install llama-parse"
   ]
  },
  {
   "cell_type": "code",
   "execution_count": null,
   "metadata": {},
   "outputs": [],
   "source": [
    "import nest_asyncio\n",
    "from llama_parse import LlamaParse\n",
    "from llama_index.core import Document\n",
    "import os\n",
    "\n",
    "nest_asyncio.apply()\n",
    "\n",
    "parser = LlamaParse(\n",
    "    api_key=\"llx-Fk3WEojfAxzEaG6LlQYjsII2m5ubQ2wY1lWkAZI7bzgWST41\",\n",
    "    result_type=\"markdown\",\n",
    "    verbose=True,\n",
    ")\n",
    "\n",
    "def combine_pdf_pages(file_path):\n",
    "    parsed_pages = parser.load_data(file_path)\n",
    "    combined_text = \"\\n\\n\".join([page.text for page in parsed_pages])\n",
    "    combined_metadata = {\n",
    "        \"source\": file_path,\n",
    "        \"file_name\": os.path.basename(file_path),\n",
    "        \"page_count\": len(parsed_pages)\n",
    "    }\n",
    "    return Document(text=combined_text, metadata=combined_metadata)\n",
    "\n",
    "def load_and_combine_pdfs(directory):\n",
    "    combined_documents = []\n",
    "    for filename in os.listdir(directory):\n",
    "        if filename.endswith(\".pdf\"):\n",
    "            file_path = os.path.join(directory, filename)\n",
    "            combined_documents.append(combine_pdf_pages(file_path))\n",
    "    return combined_documents\n",
    "\n",
    "def save_to_markdown(documents, output_directory):\n",
    "    if not os.path.exists(output_directory):\n",
    "        os.makedirs(output_directory)\n",
    "    for doc in documents:\n",
    "        base_file_name = os.path.splitext(doc.metadata['file_name'])[0]\n",
    "        output_file_path = os.path.join(output_directory, f\"{base_file_name}.md\")\n",
    "        with open(output_file_path, 'w', encoding='utf-8') as f:\n",
    "            f.write(doc.text)\n",
    "        print(f\"Saved {output_file_path}\")\n",
    "\n",
    "# Load and combine PDFs\n",
    "documents = load_and_combine_pdfs(\"./report_database\")\n",
    "\n",
    "print(f\"Loaded {len(documents)} documents.\")\n",
    "for doc in documents:\n",
    "    print(f\"Document: {doc.metadata['file_name']}, Pages: {doc.metadata['page_count']}\")\n",
    "\n",
    "# Save combined text to Markdown files\n",
    "save_to_markdown(documents, \"./output_markdown\")\n"
   ]
  }
 ],
 "metadata": {
  "kernelspec": {
   "display_name": "Python 3",
   "language": "python",
   "name": "python3"
  },
  "language_info": {
   "codemirror_mode": {
    "name": "ipython",
    "version": 3
   },
   "file_extension": ".py",
   "mimetype": "text/x-python",
   "name": "python",
   "nbconvert_exporter": "python",
   "pygments_lexer": "ipython3",
   "version": "3.10.6"
  }
 },
 "nbformat": 4,
 "nbformat_minor": 2
}
