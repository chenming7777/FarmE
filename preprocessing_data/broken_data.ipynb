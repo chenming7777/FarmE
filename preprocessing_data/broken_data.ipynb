{
 "cells": [
  {
   "cell_type": "code",
   "execution_count": 1,
   "metadata": {},
   "outputs": [
    {
     "name": "stdout",
     "output_type": "stream",
     "text": [
      "Modified data has been written to C:/FarmE/preprocessing_data/2019-11-20_sun_6_modified.csv\n"
     ]
    }
   ],
   "source": [
    "import csv\n",
    "import os\n",
    "\n",
    "# Input and output file paths\n",
    "input_file = \"C:/FarmE/preprocessing_data/2019-11-20_sun_6.csv\"\n",
    "output_file = \"C:/FarmE/preprocessing_data/2019-11-20_sun_6_modified.csv\"\n",
    "\n",
    "# Ensure the output directory exists\n",
    "os.makedirs(os.path.dirname(output_file), exist_ok=True)\n",
    "\n",
    "# Read the CSV file\n",
    "with open(input_file, 'r') as file:\n",
    "    reader = csv.DictReader(file)\n",
    "    rows = list(reader)\n",
    "\n",
    "# Modify P_AC_Group6, I_AC_Group6, and I_DC_Group6 and recalculate totals\n",
    "for row in rows:\n",
    "    original_p_ac_group6 = float(row['P_AC_Group6'])\n",
    "    new_p_ac_group6 = max(0, original_p_ac_group6 - 200)\n",
    "    row['P_AC_Group6'] = str(round(new_p_ac_group6, 1))\n",
    "\n",
    "    # Calculate the reduction factor\n",
    "    if original_p_ac_group6 > 0:\n",
    "        reduction_factor = new_p_ac_group6 / original_p_ac_group6\n",
    "    else:\n",
    "        reduction_factor = 0\n",
    "\n",
    "    # Adjust I_AC_Group6 and I_DC_Group6\n",
    "    row['I_AC_Group6'] = str(round(float(row['I_AC_Group6']) * reduction_factor, 2))\n",
    "    row['I_DC_Group6'] = str(round(float(row['I_DC_Group6']) * reduction_factor, 2))\n",
    "\n",
    "    # Recalculate P_AC as the sum of all group P_AC values\n",
    "    total_p_ac = sum(float(row[f'P_AC_Group{i}']) for i in range(1, 7))\n",
    "    row['P_AC'] = str(round(total_p_ac, 1))\n",
    "\n",
    "    # Recalculate I_AC and I_DC as the sum of all group I_AC and I_DC values\n",
    "    total_i_ac = sum(float(row[f'I_AC_Group{i}']) for i in range(1, 7))\n",
    "    row['I_AC'] = str(round(total_i_ac, 2))\n",
    "\n",
    "    total_i_dc = sum(float(row[f'I_DC_Group{i}']) for i in range(1, 7))\n",
    "    row['I_DC'] = str(round(total_i_dc, 2))\n",
    "\n",
    "# Write the modified data to a new CSV file\n",
    "with open(output_file, 'w', newline='') as file:\n",
    "    writer = csv.DictWriter(file, fieldnames=reader.fieldnames)\n",
    "    writer.writeheader()\n",
    "    writer.writerows(rows)\n",
    "\n",
    "print(f\"Modified data has been written to {output_file}\")"
   ]
  }
 ],
 "metadata": {
  "kernelspec": {
   "display_name": "Python 3",
   "language": "python",
   "name": "python3"
  },
  "language_info": {
   "codemirror_mode": {
    "name": "ipython",
    "version": 3
   },
   "file_extension": ".py",
   "mimetype": "text/x-python",
   "name": "python",
   "nbconvert_exporter": "python",
   "pygments_lexer": "ipython3",
   "version": "3.10.6"
  }
 },
 "nbformat": 4,
 "nbformat_minor": 2
}
