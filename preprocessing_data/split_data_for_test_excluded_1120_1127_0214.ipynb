{
 "cells": [
  {
   "cell_type": "code",
   "execution_count": 1,
   "metadata": {},
   "outputs": [],
   "source": [
    "import pandas as pd"
   ]
  },
  {
   "cell_type": "code",
   "execution_count": 2,
   "metadata": {},
   "outputs": [],
   "source": [
    "df = pd.read_csv('transformed_data.csv')"
   ]
  },
  {
   "cell_type": "code",
   "execution_count": 3,
   "metadata": {},
   "outputs": [
    {
     "name": "stdout",
     "output_type": "stream",
     "text": [
      "                 timestamp  IRR  massaPM1  massaPM2  massaPM4  massaPM10  \\\n",
      "0      2019-10-04 05:21:00    6      6.73      0.22       0.0        0.0   \n",
      "1      2019-10-04 05:22:00    6      6.71      0.22       0.0        0.0   \n",
      "2      2019-10-04 05:23:00    6      7.76      0.26       0.0        0.0   \n",
      "3      2019-10-04 05:24:00    7      6.52      0.22       0.0        0.0   \n",
      "4      2019-10-04 05:25:00    7      7.16      0.24       0.0        0.0   \n",
      "...                    ...  ...       ...       ...       ...        ...   \n",
      "142280 2020-03-18 20:50:00    0      2.49      0.08       0.0        0.0   \n",
      "142281 2020-03-18 20:51:00    0      2.29      0.08       0.0        0.0   \n",
      "142282 2020-03-18 20:52:00    0      2.23      0.07       0.0        0.0   \n",
      "142283 2020-03-18 20:53:00    0      2.57      0.09       0.0        0.0   \n",
      "142284 2020-03-18 20:54:00    0      2.69      0.09       0.0        0.0   \n",
      "\n",
      "        numPM1  numPM2  numPM4  numPM10  tamanho_medio   temp  vento_dir  \\\n",
      "0        55.55    0.15     0.0      0.0           0.46  21.19         90   \n",
      "1        55.37    0.15     0.0      0.0           0.48  21.25         90   \n",
      "2        64.05    0.18     0.0      0.0           0.46  21.38         90   \n",
      "3        53.81    0.15     0.0      0.0           0.47  21.50         90   \n",
      "4        59.11    0.16     0.0      0.0           0.50  21.69         90   \n",
      "...        ...     ...     ...      ...            ...    ...        ...   \n",
      "142280   20.51    0.06     0.0      0.0           0.48  26.38        180   \n",
      "142281   18.93    0.05     0.0      0.0           0.46  26.50        180   \n",
      "142282   18.42    0.05     0.0      0.0           0.46  26.44         45   \n",
      "142283   21.17    0.06     0.0      0.0           0.47  26.38         45   \n",
      "142284   22.16    0.06     0.0      0.0           0.49  26.19         45   \n",
      "\n",
      "        vento_vel  rainfall  P_AC  I_AC  I_DC   V_AC   V_DC  \n",
      "0            0.00       0.0     9  0.10  0.09  220.0  461.7  \n",
      "1            0.00       0.0    12  0.10  0.10  220.1  440.0  \n",
      "2            0.00       0.0    19  0.12  0.10  218.7  481.5  \n",
      "3            0.00       0.0    27  0.15  0.12  218.8  466.9  \n",
      "4            0.00       0.0    33  0.18  0.13  218.3  482.4  \n",
      "...           ...       ...   ...   ...   ...    ...    ...  \n",
      "142280       0.00       0.0     0  0.11  0.00  215.4   39.8  \n",
      "142281       0.00       0.0     0  0.11  0.00  215.4   39.8  \n",
      "142282       6.65       0.0     0  0.11  0.00  215.4   39.8  \n",
      "142283       3.99       0.0     0  0.11  0.00  215.4   39.8  \n",
      "142284       1.33       0.0     0  0.11  0.00  215.4   39.7  \n",
      "\n",
      "[138231 rows x 20 columns]\n"
     ]
    }
   ],
   "source": [
    "\n",
    "\n",
    "# Convert the 'timestamp' column to datetime\n",
    "df['timestamp'] = pd.to_datetime(df['timestamp'])\n",
    "\n",
    "# Define the dates to exclude\n",
    "dates_to_exclude = pd.to_datetime(['2020-02-14', '2019-11-20', '2019-11-27'])\n",
    "\n",
    "# Filter the DataFrame to exclude the specified dates\n",
    "df_filtered = df[~df['timestamp'].dt.date.isin(dates_to_exclude.date)]\n",
    "\n",
    "# Display the filtered DataFrame\n",
    "print(df_filtered)"
   ]
  },
  {
   "cell_type": "code",
   "execution_count": 5,
   "metadata": {},
   "outputs": [],
   "source": [
    "df_filtered.to_csv('train_valid.csv', index=False)"
   ]
  }
 ],
 "metadata": {
  "kernelspec": {
   "display_name": "Python 3",
   "language": "python",
   "name": "python3"
  },
  "language_info": {
   "codemirror_mode": {
    "name": "ipython",
    "version": 3
   },
   "file_extension": ".py",
   "mimetype": "text/x-python",
   "name": "python",
   "nbconvert_exporter": "python",
   "pygments_lexer": "ipython3",
   "version": "3.10.6"
  }
 },
 "nbformat": 4,
 "nbformat_minor": 2
}
