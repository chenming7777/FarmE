{
 "cells": [
  {
   "cell_type": "code",
   "execution_count": null,
   "metadata": {},
   "outputs": [],
   "source": [
    "import pandas as pd\n",
    "\n",
    "# Read the CSV file\n",
    "df = pd.read_csv('2020-02-14_dust.csv', parse_dates=['timestamp'])\n",
    "\n",
    "# Columns to be divided into 6 groups\n",
    "columns_to_divide = ['P_AC', 'I_AC', 'I_DC']\n",
    "\n",
    "# Columns that will be kept the same for all groups\n",
    "columns_to_keep = ['V_AC', 'V_DC']\n",
    "\n",
    "# Create new columns for each group\n",
    "for column in columns_to_divide:\n",
    "    for i in range(1, 7):\n",
    "        df[f'{column}_Group{i}'] = df[column] / 6\n",
    "\n",
    "for column in columns_to_keep:\n",
    "    for i in range(1, 7):\n",
    "        df[f'{column}_Group{i}'] = df[column]\n",
    "\n",
    "# Round the new columns to 2 decimal places\n",
    "columns_to_round = [col for col in df.columns if col.startswith(tuple(columns_to_divide + columns_to_keep))]\n",
    "df[columns_to_round] = df[columns_to_round].round(2)\n",
    "\n",
    "# List of columns that will remain unchanged\n",
    "unchanged_columns = ['timestamp', 'IRR', 'massaPM1', 'massaPM2', 'massaPM4', 'massaPM10', \n",
    "                     'numPM1', 'numPM2', 'numPM4', 'numPM10', 'tamanho_medio', \n",
    "                     'temp', 'vento_dir', 'vento_vel', 'rainfall','P_AC', 'I_AC', 'I_DC', 'V_AC', 'V_DC']\n",
    "\n",
    "# Create a list of all columns in the desired order\n",
    "final_columns = unchanged_columns + [col for col in df.columns if col not in unchanged_columns]\n",
    "\n",
    "# Reorder the columns\n",
    "df = df[final_columns]\n",
    "\n",
    "# Display the first few rows of the new dataframe\n",
    "print(df.head())\n",
    "\n",
    "# Save the new dataframe to a CSV file\n",
    "df.to_csv('2020-02-14_dust_6.csv', index=False)"
   ]
  },
  {
   "cell_type": "code",
   "execution_count": null,
   "metadata": {},
   "outputs": [],
   "source": [
    "import pandas as pd\n",
    "\n",
    "# Load the CSV file\n",
    "df = pd.read_csv('solar_farm_data_six_groups.csv', parse_dates=['timestamp'])\n",
    "\n",
    "# Ensure the 'timestamp' column is in datetime format\n",
    "df['timestamp'] = pd.to_datetime(df['timestamp'])\n",
    "\n",
    "# Filter rows where the timestamp is after 2019-11-20 11:50:00\n",
    "filtered_df = df[df['timestamp'] < '2019-11-20 11:50:00']\n",
    "\n",
    "# Define the columns to display\n",
    "columns = [\"P_AC\", \"I_AC\", \"I_DC\", \"V_AC\", \"V_DC\", \"P_AC_Group1\", \"P_AC_Group2\", \"P_AC_Group3\", \"P_AC_Group4\", \"P_AC_Group5\", \"P_AC_Group6\", \"I_AC_Group1\", \"I_AC_Group2\", \"I_AC_Group3\", \"I_AC_Group4\", \"I_AC_Group5\", \"I_AC_Group6\", \"I_DC_Group1\", \"I_DC_Group2\", \"I_DC_Group3\", \"I_DC_Group4\", \"I_DC_Group5\", \"I_DC_Group6\", \"V_AC_Group1\", \"V_AC_Group2\", \"V_AC_Group3\", \"V_AC_Group4\", \"V_AC_Group5\", \"V_AC_Group6\", \"V_DC_Group1\", \"V_DC_Group2\", \"V_DC_Group3\", \"V_DC_Group4\", \"V_DC_Group5\", \"V_DC_Group6\"]\n",
    "\n",
    "# Display the filtered DataFrame with only the specified columns\n",
    "df[columns]"
   ]
  }
 ],
 "metadata": {
  "kernelspec": {
   "display_name": "Python 3",
   "language": "python",
   "name": "python3"
  },
  "language_info": {
   "codemirror_mode": {
    "name": "ipython",
    "version": 3
   },
   "file_extension": ".py",
   "mimetype": "text/x-python",
   "name": "python",
   "nbconvert_exporter": "python",
   "pygments_lexer": "ipython3",
   "version": "3.10.6"
  }
 },
 "nbformat": 4,
 "nbformat_minor": 2
}
